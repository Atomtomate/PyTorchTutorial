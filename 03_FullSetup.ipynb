{
 "cells": [
  {
   "cell_type": "markdown",
   "metadata": {},
   "source": [
    "# Full Setup, Classifier and Convolutional Variational Autoencoders\n",
    "\n",
    "\n",
    "The model follows [this](https://bytepawn.com/building-a-pytorch-autoencoder-for-mnist-digits.html) tutorial by Bytepawn (The Blog covers interesting computer science/astro physics crossover topics).\n",
    "Visualizations ideas are taken from [this](https://skannai.medium.com/what-are-convolutional-variational-auto-encoders-cvae-515f4fedc23) blog ny Berke Türkmen."
   ]
  },
  {
   "cell_type": "markdown",
   "metadata": {},
   "source": []
  }
 ],
 "metadata": {
  "language_info": {
   "name": "python"
  }
 },
 "nbformat": 4,
 "nbformat_minor": 2
}
